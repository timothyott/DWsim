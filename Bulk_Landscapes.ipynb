{
 "cells": [
  {
   "cell_type": "code",
   "execution_count": null,
   "metadata": {
    "scrolled": true
   },
   "outputs": [
    {
     "name": "stdout",
     "output_type": "stream",
     "text": [
      "Saving outputs to  /afs/ir.stanford.edu/users/t/o/tott/sim/\n",
      "Generating 3x4, kw=0.0, kb=0.0\n",
      "Saved landscapes as file NK_landscape_P_3_D_4_K_within_0.0_K_between_0.0_i_100.npy\n",
      "Saving outputs to  /afs/ir.stanford.edu/users/t/o/tott/sim/\n",
      "Generating 3x4, kw=0.0, kb=0.25\n",
      "Saved landscapes as file NK_landscape_P_3_D_4_K_within_0.0_K_between_0.25_i_100.npy\n",
      "Saving outputs to  /afs/ir.stanford.edu/users/t/o/tott/sim/\n",
      "Generating 3x4, kw=0.0, kb=0.5\n",
      "Saved landscapes as file NK_landscape_P_3_D_4_K_within_0.0_K_between_0.5_i_100.npy\n",
      "Saving outputs to  /afs/ir.stanford.edu/users/t/o/tott/sim/\n",
      "Generating 3x4, kw=0.0, kb=0.75\n",
      "Saved landscapes as file NK_landscape_P_3_D_4_K_within_0.0_K_between_0.75_i_100.npy\n",
      "Saving outputs to  /afs/ir.stanford.edu/users/t/o/tott/sim/\n",
      "Generating 3x4, kw=0.0, kb=1.0\n",
      "Saved landscapes as file NK_landscape_P_3_D_4_K_within_0.0_K_between_1.0_i_100.npy\n",
      "Saving outputs to  /afs/ir.stanford.edu/users/t/o/tott/sim/\n",
      "Generating 3x4, kw=0.25, kb=0.0\n",
      "Saved landscapes as file NK_landscape_P_3_D_4_K_within_0.25_K_between_0.0_i_100.npy\n",
      "Saving outputs to  /afs/ir.stanford.edu/users/t/o/tott/sim/\n",
      "Generating 3x4, kw=0.25, kb=0.25\n",
      "Saved landscapes as file NK_landscape_P_3_D_4_K_within_0.25_K_between_0.25_i_100.npy\n",
      "Saving outputs to  /afs/ir.stanford.edu/users/t/o/tott/sim/\n",
      "Generating 3x4, kw=0.25, kb=0.5\n",
      "Saved landscapes as file NK_landscape_P_3_D_4_K_within_0.25_K_between_0.5_i_100.npy\n",
      "Saving outputs to  /afs/ir.stanford.edu/users/t/o/tott/sim/\n",
      "Generating 3x4, kw=0.25, kb=0.75\n",
      "Saved landscapes as file NK_landscape_P_3_D_4_K_within_0.25_K_between_0.75_i_100.npy\n",
      "Saving outputs to  /afs/ir.stanford.edu/users/t/o/tott/sim/\n",
      "Generating 3x4, kw=0.25, kb=1.0\n",
      "Saved landscapes as file NK_landscape_P_3_D_4_K_within_0.25_K_between_1.0_i_100.npy\n",
      "Saving outputs to  /afs/ir.stanford.edu/users/t/o/tott/sim/\n",
      "Generating 3x4, kw=0.5, kb=0.0\n",
      "Saved landscapes as file NK_landscape_P_3_D_4_K_within_0.5_K_between_0.0_i_100.npy\n",
      "Saving outputs to  /afs/ir.stanford.edu/users/t/o/tott/sim/\n",
      "Generating 3x4, kw=0.5, kb=0.25\n",
      "Saved landscapes as file NK_landscape_P_3_D_4_K_within_0.5_K_between_0.25_i_100.npy\n",
      "Saving outputs to  /afs/ir.stanford.edu/users/t/o/tott/sim/\n",
      "Generating 3x4, kw=0.5, kb=0.5\n",
      "Saved landscapes as file NK_landscape_P_3_D_4_K_within_0.5_K_between_0.5_i_100.npy\n",
      "Saving outputs to  /afs/ir.stanford.edu/users/t/o/tott/sim/\n",
      "Generating 3x4, kw=0.5, kb=0.75\n",
      "Saved landscapes as file NK_landscape_P_3_D_4_K_within_0.5_K_between_0.75_i_100.npy\n",
      "Saving outputs to  /afs/ir.stanford.edu/users/t/o/tott/sim/\n",
      "Generating 3x4, kw=0.5, kb=1.0\n"
     ]
    }
   ],
   "source": [
    "import generate_landscape as gen\n",
    "\n",
    "#K_w = [0.0, 0.1, 0.2, 0.3, 0.4, 0.5, 0.6, 0.7, 0.8, 0.9, 1.0]\n",
    "#K_b = [0.0, 0.1, 0.2, 0.3, 0.4, 0.5, 0.6, 0.7, 0.8, 0.9, 1.0]\n",
    "K_w = [0.0,0.25,0.5,0.75,1.0]\n",
    "K_b = [0.0,0.25,0.5,0.75,1.0]\n",
    "P=3\n",
    "D=4\n",
    "i=100\n",
    "\n",
    "for kw in K_w:\n",
    "    for kb in K_b:\n",
    "        gen.main(P,D,kw,kb,i)"
   ]
  },
  {
   "cell_type": "code",
   "execution_count": 2,
   "metadata": {},
   "outputs": [
    {
     "name": "stdout",
     "output_type": "stream",
     "text": [
      "Saving outputs to  /afs/ir.stanford.edu/users/t/o/tott/sim/\n",
      "Generating 4x3, kw=0.0, kb=0.0\n",
      "Saved landscapes as file NK_landscape_P_4_D_3_K_within_0.0_K_between_0.0_i_100.npy\n",
      "Saving outputs to  /afs/ir.stanford.edu/users/t/o/tott/sim/\n",
      "Generating 4x3, kw=0.0, kb=0.25\n",
      "Saved landscapes as file NK_landscape_P_4_D_3_K_within_0.0_K_between_0.25_i_100.npy\n",
      "Saving outputs to  /afs/ir.stanford.edu/users/t/o/tott/sim/\n",
      "Generating 4x3, kw=0.0, kb=0.5\n",
      "Saved landscapes as file NK_landscape_P_4_D_3_K_within_0.0_K_between_0.5_i_100.npy\n",
      "Saving outputs to  /afs/ir.stanford.edu/users/t/o/tott/sim/\n",
      "Generating 4x3, kw=0.0, kb=0.75\n",
      "Saved landscapes as file NK_landscape_P_4_D_3_K_within_0.0_K_between_0.75_i_100.npy\n",
      "Saving outputs to  /afs/ir.stanford.edu/users/t/o/tott/sim/\n",
      "Generating 4x3, kw=0.0, kb=1.0\n",
      "Saved landscapes as file NK_landscape_P_4_D_3_K_within_0.0_K_between_1.0_i_100.npy\n",
      "Saving outputs to  /afs/ir.stanford.edu/users/t/o/tott/sim/\n",
      "Generating 4x3, kw=0.25, kb=0.0\n",
      "Saved landscapes as file NK_landscape_P_4_D_3_K_within_0.25_K_between_0.0_i_100.npy\n",
      "Saving outputs to  /afs/ir.stanford.edu/users/t/o/tott/sim/\n",
      "Generating 4x3, kw=0.25, kb=0.25\n",
      "Saved landscapes as file NK_landscape_P_4_D_3_K_within_0.25_K_between_0.25_i_100.npy\n",
      "Saving outputs to  /afs/ir.stanford.edu/users/t/o/tott/sim/\n",
      "Generating 4x3, kw=0.25, kb=0.5\n",
      "Saved landscapes as file NK_landscape_P_4_D_3_K_within_0.25_K_between_0.5_i_100.npy\n",
      "Saving outputs to  /afs/ir.stanford.edu/users/t/o/tott/sim/\n",
      "Generating 4x3, kw=0.25, kb=0.75\n",
      "Saved landscapes as file NK_landscape_P_4_D_3_K_within_0.25_K_between_0.75_i_100.npy\n",
      "Saving outputs to  /afs/ir.stanford.edu/users/t/o/tott/sim/\n",
      "Generating 4x3, kw=0.25, kb=1.0\n",
      "Saved landscapes as file NK_landscape_P_4_D_3_K_within_0.25_K_between_1.0_i_100.npy\n",
      "Saving outputs to  /afs/ir.stanford.edu/users/t/o/tott/sim/\n",
      "Generating 4x3, kw=0.5, kb=0.0\n",
      "Saved landscapes as file NK_landscape_P_4_D_3_K_within_0.5_K_between_0.0_i_100.npy\n",
      "Saving outputs to  /afs/ir.stanford.edu/users/t/o/tott/sim/\n",
      "Generating 4x3, kw=0.5, kb=0.25\n",
      "Saved landscapes as file NK_landscape_P_4_D_3_K_within_0.5_K_between_0.25_i_100.npy\n",
      "Saving outputs to  /afs/ir.stanford.edu/users/t/o/tott/sim/\n",
      "Generating 4x3, kw=0.5, kb=0.5\n",
      "Saved landscapes as file NK_landscape_P_4_D_3_K_within_0.5_K_between_0.5_i_100.npy\n",
      "Saving outputs to  /afs/ir.stanford.edu/users/t/o/tott/sim/\n",
      "Generating 4x3, kw=0.5, kb=0.75\n",
      "Saved landscapes as file NK_landscape_P_4_D_3_K_within_0.5_K_between_0.75_i_100.npy\n",
      "Saving outputs to  /afs/ir.stanford.edu/users/t/o/tott/sim/\n",
      "Generating 4x3, kw=0.5, kb=1.0\n",
      "Saved landscapes as file NK_landscape_P_4_D_3_K_within_0.5_K_between_1.0_i_100.npy\n",
      "Saving outputs to  /afs/ir.stanford.edu/users/t/o/tott/sim/\n",
      "Generating 4x3, kw=0.75, kb=0.0\n",
      "Saved landscapes as file NK_landscape_P_4_D_3_K_within_0.75_K_between_0.0_i_100.npy\n",
      "Saving outputs to  /afs/ir.stanford.edu/users/t/o/tott/sim/\n",
      "Generating 4x3, kw=0.75, kb=0.25\n",
      "Saved landscapes as file NK_landscape_P_4_D_3_K_within_0.75_K_between_0.25_i_100.npy\n",
      "Saving outputs to  /afs/ir.stanford.edu/users/t/o/tott/sim/\n",
      "Generating 4x3, kw=0.75, kb=0.5\n",
      "Saved landscapes as file NK_landscape_P_4_D_3_K_within_0.75_K_between_0.5_i_100.npy\n",
      "Saving outputs to  /afs/ir.stanford.edu/users/t/o/tott/sim/\n",
      "Generating 4x3, kw=0.75, kb=0.75\n",
      "Saved landscapes as file NK_landscape_P_4_D_3_K_within_0.75_K_between_0.75_i_100.npy\n",
      "Saving outputs to  /afs/ir.stanford.edu/users/t/o/tott/sim/\n",
      "Generating 4x3, kw=0.75, kb=1.0\n",
      "Saved landscapes as file NK_landscape_P_4_D_3_K_within_0.75_K_between_1.0_i_100.npy\n",
      "Saving outputs to  /afs/ir.stanford.edu/users/t/o/tott/sim/\n",
      "Generating 4x3, kw=1.0, kb=0.0\n",
      "Saved landscapes as file NK_landscape_P_4_D_3_K_within_1.0_K_between_0.0_i_100.npy\n",
      "Saving outputs to  /afs/ir.stanford.edu/users/t/o/tott/sim/\n",
      "Generating 4x3, kw=1.0, kb=0.25\n",
      "Saved landscapes as file NK_landscape_P_4_D_3_K_within_1.0_K_between_0.25_i_100.npy\n",
      "Saving outputs to  /afs/ir.stanford.edu/users/t/o/tott/sim/\n",
      "Generating 4x3, kw=1.0, kb=0.5\n",
      "Saved landscapes as file NK_landscape_P_4_D_3_K_within_1.0_K_between_0.5_i_100.npy\n",
      "Saving outputs to  /afs/ir.stanford.edu/users/t/o/tott/sim/\n",
      "Generating 4x3, kw=1.0, kb=0.75\n",
      "Saved landscapes as file NK_landscape_P_4_D_3_K_within_1.0_K_between_0.75_i_100.npy\n",
      "Saving outputs to  /afs/ir.stanford.edu/users/t/o/tott/sim/\n",
      "Generating 4x3, kw=1.0, kb=1.0\n",
      "Saved landscapes as file NK_landscape_P_4_D_3_K_within_1.0_K_between_1.0_i_100.npy\n"
     ]
    }
   ],
   "source": [
    "import generate_landscape as gen\n",
    "#K_w = [0.0, 0.1, 0.2, 0.3, 0.4, 0.5, 0.6, 0.7, 0.8, 0.9, 1.0]\n",
    "#K_b = [0.0, 0.1, 0.2, 0.3, 0.4, 0.5, 0.6, 0.7, 0.8, 0.9, 1.0]\n",
    "K_w = [0.0,0.25,0.5,0.75,1.0]\n",
    "K_b = [0.0,0.25,0.5,0.75,1.0]\n",
    "P=4\n",
    "D=3\n",
    "i=100\n",
    "\n",
    "for kw in K_w:\n",
    "    for kb in K_b:\n",
    "        gen.main(P,D,kw,kb,i)"
   ]
  },
  {
   "cell_type": "code",
   "execution_count": null,
   "metadata": {},
   "outputs": [
    {
     "name": "stdout",
     "output_type": "stream",
     "text": [
      "Saving outputs to  /afs/ir.stanford.edu/users/t/o/tott/sim/\n",
      "Generating 3x6, kw=0.75, kb=0.25\n"
     ]
    }
   ],
   "source": [
    "import generate_landscape as gen\n",
    "#K_w = [0.0, 0.1, 0.2, 0.3, 0.4, 0.5, 0.6, 0.7, 0.8, 0.9, 1.0]\n",
    "#K_b = [0.0, 0.1, 0.2, 0.3, 0.4, 0.5, 0.6, 0.7, 0.8, 0.9, 1.0]\n",
    "#K_w = [0.0,0.25,0.5,0.75,1.0]\n",
    "#K_b = [0.0,0.25,0.5,0.75,1.0]\n",
    "kw = 0.75\n",
    "kb = 0.25\n",
    "P=3\n",
    "D=6\n",
    "i=100\n",
    "\n",
    "gen.main(P,D,kw,kb,i)"
   ]
  },
  {
   "cell_type": "code",
   "execution_count": null,
   "metadata": {
    "collapsed": true
   },
   "outputs": [],
   "source": []
  }
 ],
 "metadata": {
  "kernelspec": {
   "display_name": "Python 3",
   "language": "python",
   "name": "python3"
  },
  "language_info": {
   "codemirror_mode": {
    "name": "ipython",
    "version": 3
   },
   "file_extension": ".py",
   "mimetype": "text/x-python",
   "name": "python",
   "nbconvert_exporter": "python",
   "pygments_lexer": "ipython3",
   "version": "3.4.3"
  }
 },
 "nbformat": 4,
 "nbformat_minor": 2
}
