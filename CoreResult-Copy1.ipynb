{
 "cells": [
  {
   "cell_type": "code",
   "execution_count": 1,
   "metadata": {
    "collapsed": false,
    "deletable": true,
    "editable": true
   },
   "outputs": [
    {
     "name": "stdout",
     "output_type": "stream",
     "text": [
      " ----------------------------------------------------\n",
      "NK search (Version 1.0)\n",
      "\n",
      "----------------------------------------------------\n",
      "\n",
      "By Ron Tidhar & Tim Ott\n",
      "\n",
      "----------------------------------------------------\n",
      "Simulating NK_landscape_P_3_D_4_K_within_0.75_K_between_0.25_i_100.npy... Finished!\n"
     ]
    }
   ],
   "source": [
    "import NK_search_bulk_scan_thresh\n",
    "\n",
    "INPUTFILE = \"NK_landscape_P_3_D_4_K_within_0.75_K_between_0.25_i_100.npy\"\n",
    "core_result = NK_search_bulk_scan_thresh.main(INPUTFILE, 100, 16, 1, 0.75)"
   ]
  },
  {
   "cell_type": "code",
   "execution_count": 2,
   "metadata": {
    "collapsed": false,
    "deletable": true,
    "editable": true
   },
   "outputs": [
    {
     "name": "stdout",
     "output_type": "stream",
     "text": [
      "local_result\n",
      "avg_steps: 5.641\n",
      "avg_impr: 0.254412278184\n",
      "avg_scans: 18.0081\n",
      "fit_conf: 0.00123720480652\n",
      "impr_conf: 0.00231370619111\n",
      "step_conf: 0.0437612931962\n",
      "scan_conf: 0.199158535941\n",
      "nonglobal_conf: 0.00119309821937\n",
      "norm_fit: 0.903193506066\n",
      "pct_global: 0.0876\n",
      "nonglobal_fit: 0.89389906408\n",
      "dw_result\n",
      "avg_steps: 5.3513\n",
      "avg_impr: 0.277097506698\n",
      "avg_scans: 47.1194\n",
      "fit_conf: 0.00104374454733\n",
      "impr_conf: 0.00225039455089\n",
      "step_conf: 0.0456407844436\n",
      "scan_conf: 0.0133851374713\n",
      "nonglobal_conf: 0.00101177266253\n",
      "norm_fit: 0.925878734581\n",
      "pct_global: 0.1292\n",
      "nonglobal_fit: 0.914881413161\n",
      "chunky_result\n",
      "avg_steps: 14.805\n",
      "avg_impr: 0.258922810157\n",
      "avg_scans: 90.4133\n",
      "fit_conf: 0.00119870817042\n",
      "impr_conf: 0.00226431955578\n",
      "step_conf: 0.0592508779121\n",
      "scan_conf: 0.271751750478\n",
      "nonglobal_conf: 0.00116405326533\n",
      "norm_fit: 0.90770403804\n",
      "pct_global: 0.0839\n",
      "nonglobal_fit: 0.899251214977\n"
     ]
    }
   ],
   "source": [
    "for key, value in core_result.items():\n",
    "    if isinstance(value, dict):\n",
    "        print(key)\n",
    "        for k, v in value.items():\n",
    "            print(str(k) +\": \" + str(v))"
   ]
  },
  {
   "cell_type": "code",
   "execution_count": 33,
   "metadata": {
    "collapsed": false,
    "deletable": true,
    "editable": true
   },
   "outputs": [
    {
     "data": {
      "text/plain": [
       "5.3428712775093423"
      ]
     },
     "execution_count": 33,
     "metadata": {},
     "output_type": "execute_result"
    }
   ],
   "source": [
    "core_result['dw_result']['avg_steps']+core_result['dw_result']['step_conf']"
   ]
  },
  {
   "cell_type": "code",
   "execution_count": 6,
   "metadata": {
    "collapsed": false,
    "deletable": true,
    "editable": true
   },
   "outputs": [
    {
     "data": {
      "text/plain": [
       "2"
      ]
     },
     "execution_count": 6,
     "metadata": {},
     "output_type": "execute_result"
    }
   ],
   "source": [
    "2 % 17"
   ]
  },
  {
   "cell_type": "code",
   "execution_count": null,
   "metadata": {
    "collapsed": true
   },
   "outputs": [],
   "source": []
  },
  {
   "cell_type": "code",
   "execution_count": null,
   "metadata": {
    "collapsed": true
   },
   "outputs": [],
   "source": []
  }
 ],
 "metadata": {
  "kernelspec": {
   "display_name": "Python 3",
   "language": "python",
   "name": "python3"
  },
  "language_info": {
   "codemirror_mode": {
    "name": "ipython",
    "version": 3
   },
   "file_extension": ".py",
   "mimetype": "text/x-python",
   "name": "python",
   "nbconvert_exporter": "python",
   "pygments_lexer": "ipython3",
   "version": "3.4.3"
  }
 },
 "nbformat": 4,
 "nbformat_minor": 2
}
